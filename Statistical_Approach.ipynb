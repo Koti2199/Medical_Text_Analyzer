{
  "nbformat": 4,
  "nbformat_minor": 0,
  "metadata": {
    "colab": {
      "provenance": [],
      "gpuType": "T4"
    },
    "kernelspec": {
      "name": "python3",
      "display_name": "Python 3"
    },
    "language_info": {
      "name": "python"
    },
    "accelerator": "GPU"
  },
  "cells": [
    {
      "cell_type": "markdown",
      "source": [
        "# Medical Blog Generation and Classification Using Clinical Records\n",
        "# Increment 1: Statistical Approach using TextRank, NER, and TF-IDF\n",
        "# =========================================================================="
      ],
      "metadata": {
        "id": "ARmahl90BJ1B"
      }
    },
    {
      "cell_type": "code",
      "source": [
        "# Import all required libraries from the first part of the code\n",
        "import pandas as pd\n",
        "import numpy as np\n",
        "import re\n",
        "import nltk\n",
        "from nltk.corpus import stopwords\n",
        "from nltk.tokenize import sent_tokenize, word_tokenize\n",
        "from sklearn.feature_extraction.text import TfidfVectorizer\n",
        "from sklearn.model_selection import train_test_split\n",
        "from sklearn.linear_model import LogisticRegression\n",
        "from sklearn.svm import SVC\n",
        "from sklearn.metrics import classification_report, accuracy_score\n",
        "from sklearn.preprocessing import LabelEncoder\n",
        "import spacy\n",
        "import networkx as nx\n",
        "import matplotlib.pyplot as plt\n",
        "import seaborn as sns\n",
        "\n",
        "# Download required NLTK resources\n",
        "nltk.download('punkt')\n",
        "nltk.download('stopwords')\n",
        "nltk.download('wordnet')"
      ],
      "metadata": {
        "colab": {
          "base_uri": "https://localhost:8080/"
        },
        "id": "_3pdX40RB47q",
        "outputId": "bd0ee9f8-157b-42f6-8137-f2ff614a06f1"
      },
      "execution_count": null,
      "outputs": [
        {
          "output_type": "stream",
          "name": "stderr",
          "text": [
            "[nltk_data] Downloading package punkt to /root/nltk_data...\n",
            "[nltk_data]   Package punkt is already up-to-date!\n",
            "[nltk_data] Downloading package stopwords to /root/nltk_data...\n",
            "[nltk_data]   Package stopwords is already up-to-date!\n",
            "[nltk_data] Downloading package wordnet to /root/nltk_data...\n",
            "[nltk_data]   Package wordnet is already up-to-date!\n"
          ]
        },
        {
          "output_type": "execute_result",
          "data": {
            "text/plain": [
              "True"
            ]
          },
          "metadata": {},
          "execution_count": 14
        }
      ]
    },
    {
      "cell_type": "code",
      "source": [
        "def load_data(file_path, nrows=5000):\n",
        "    \"\"\"Load the MIMIC dataset and return a subset of rows\"\"\"\n",
        "    print(f\"Loading {nrows} rows from the dataset...\")\n",
        "    df = pd.read_csv(file_path, nrows=nrows)\n",
        "    print(f\"Dataset loaded with shape: {df.shape}\")\n",
        "    return df\n",
        "\n",
        "def explore_data(df):\n",
        "    \"\"\"Perform initial exploration of the dataset\"\"\"\n",
        "    # Display basic information\n",
        "    print(\"\\n=== Dataset Information ===\")\n",
        "    print(f\"Number of records: {len(df)}\")\n",
        "    print(f\"Number of columns: {len(df.columns)}\")\n",
        "\n",
        "    # Check for missing values in text columns\n",
        "    print(\"\\n=== Missing Values in Key Text Columns ===\")\n",
        "    text_columns = ['AdmitDiagnosis', 'AdmitProcedure']\n",
        "    for col in text_columns:\n",
        "        if col in df.columns:\n",
        "            missing = df[col].isna().sum()\n",
        "            print(f\"{col}: {missing} missing values ({missing/len(df)*100:.2f}%)\")\n",
        "\n",
        "    # Display sample admit diagnoses\n",
        "    if 'AdmitDiagnosis' in df.columns:\n",
        "        print(\"\\n=== Sample Admit Diagnoses ===\")\n",
        "        non_null_diagnoses = df['AdmitDiagnosis'].dropna()\n",
        "        for i, diagnosis in enumerate(non_null_diagnoses.sample(5).values):\n",
        "            print(f\"Sample {i+1}: {diagnosis}\")\n",
        "\n",
        "    # Display basic statistics for numerical columns\n",
        "    print(\"\\n=== Numerical Columns Statistics ===\")\n",
        "    numerical_cols = df.select_dtypes(include=['int64', 'float64']).columns\n",
        "    print(df[numerical_cols].describe().T)\n",
        "\n",
        "    return None\n",
        "\n",
        "# Load and explore the data\n",
        "mimic_df = load_data('/content/mimic3d.csv', nrows=5000)\n",
        "explore_data(mimic_df)"
      ],
      "metadata": {
        "colab": {
          "base_uri": "https://localhost:8080/"
        },
        "id": "yHHfuX4gfcp5",
        "outputId": "e3a02404-f7b2-4d98-e814-3da27ebc9865"
      },
      "execution_count": null,
      "outputs": [
        {
          "output_type": "stream",
          "name": "stdout",
          "text": [
            "Loading 5000 rows from the dataset...\n",
            "Dataset loaded with shape: (5000, 28)\n",
            "\n",
            "=== Dataset Information ===\n",
            "Number of records: 5000\n",
            "Number of columns: 28\n",
            "\n",
            "=== Missing Values in Key Text Columns ===\n",
            "AdmitDiagnosis: 1 missing values (0.02%)\n",
            "AdmitProcedure: 0 missing values (0.00%)\n",
            "\n",
            "=== Sample Admit Diagnoses ===\n",
            "Sample 1: HEAD BLEED;URINARY TRACT INFECTION;PNEUMONIA\n",
            "Sample 2: ACUTE CORONARY SYNDROME\n",
            "Sample 3: CHOLANGITIS\n",
            "Sample 4: OPEN WOUND RIGHT FOOT\n",
            "Sample 5: RECTAL CA/SDA\n",
            "\n",
            "=== Numerical Columns Statistics ===\n",
            "                   count           mean          std       min          25%  \\\n",
            "hadm_id           5000.0  104200.536800  2449.375432  100001.0  102068.7500   \n",
            "age               5000.0      53.262000    25.726238       0.0      43.0000   \n",
            "LOSdays           5000.0      10.304562    12.900083       0.0       3.6300   \n",
            "NumCallouts       5000.0       0.100350     0.174411       0.0       0.0000   \n",
            "NumDiagnosis      5000.0       2.618176     7.726943       0.0       0.8300   \n",
            "NumProcs          5000.0       0.742586     2.933377       0.0       0.2100   \n",
            "NumCPTevents      5000.0       1.122114     2.669030       0.0       0.0000   \n",
            "NumInput          5000.0      32.247720    69.036866       0.0       5.3300   \n",
            "NumLabs           5000.0      46.769894    82.492478       0.0      27.5075   \n",
            "NumMicroLabs      5000.0       1.277062     3.929188       0.0       0.1500   \n",
            "NumNotes          5000.0       5.476226    93.744371       0.0       0.1400   \n",
            "NumOutput         5000.0       7.200616     9.123952       0.0       1.7300   \n",
            "NumRx             5000.0       9.753198    13.398585       0.0       4.3600   \n",
            "NumProcEvents     5000.0       0.688630     2.244808       0.0       0.0000   \n",
            "NumTransfers      5000.0       1.052118     2.711689       0.0       0.3700   \n",
            "NumChartEvents    5000.0     535.214762   604.598588       0.0     219.3500   \n",
            "ExpiredHospital   5000.0       0.102600     0.303466       0.0       0.0000   \n",
            "TotalNumInteract  5000.0     644.263452   783.230734       0.0     279.7250   \n",
            "LOSgroupNum       5000.0       1.362200     1.139505       0.0       0.0000   \n",
            "\n",
            "                         50%          75%        max  \n",
            "hadm_id           104172.500  106315.2500  108446.00  \n",
            "age                   59.000      73.0000      88.00  \n",
            "LOSdays                6.500      11.9200     166.88  \n",
            "NumCallouts            0.000       0.1500       3.03  \n",
            "NumDiagnosis           1.420       2.3800     300.00  \n",
            "NumProcs               0.420       0.7300     175.00  \n",
            "NumCPTevents           1.000       1.5900     150.00  \n",
            "NumInput              14.720      35.4325    2200.00  \n",
            "NumLabs               38.590      51.2225    4025.00  \n",
            "NumMicroLabs           0.520       1.3700     138.46  \n",
            "NumNotes               0.330       0.7800    4375.00  \n",
            "NumOutput              5.485      10.3125     375.00  \n",
            "NumRx                  8.420      12.4125     375.00  \n",
            "NumProcEvents          0.000       0.8900      58.82  \n",
            "NumTransfers           0.655       1.0700      75.00  \n",
            "NumChartEvents       422.810     705.0350   21150.00  \n",
            "ExpiredHospital        0.000       0.0000       1.00  \n",
            "TotalNumInteract     500.285     817.1000   29025.00  \n",
            "LOSgroupNum            1.000       2.0000       3.00  \n"
          ]
        }
      ]
    },
    {
      "cell_type": "code",
      "source": [
        "import nltk\n",
        "nltk.download('punkt_tab')"
      ],
      "metadata": {
        "colab": {
          "base_uri": "https://localhost:8080/"
        },
        "id": "Ch3q7mgPgR7n",
        "outputId": "9a01d190-0661-47ef-b1fa-cb5e6e9ca834"
      },
      "execution_count": null,
      "outputs": [
        {
          "output_type": "stream",
          "name": "stderr",
          "text": [
            "[nltk_data] Downloading package punkt_tab to /root/nltk_data...\n",
            "[nltk_data]   Unzipping tokenizers/punkt_tab.zip.\n"
          ]
        },
        {
          "output_type": "execute_result",
          "data": {
            "text/plain": [
              "True"
            ]
          },
          "metadata": {},
          "execution_count": 4
        }
      ]
    },
    {
      "cell_type": "code",
      "source": [
        "def preprocess_text(text, remove_stopwords=True):\n",
        "    \"\"\"Preprocess clinical text\"\"\"\n",
        "    if pd.isna(text):\n",
        "        return \"\"\n",
        "\n",
        "    # Convert to lowercase and remove punctuation and numbers\n",
        "    text = re.sub(r'[^\\w\\s]', ' ', text.lower())\n",
        "    text = re.sub(r'\\d+', ' ', text)\n",
        "\n",
        "    # Tokenize the text\n",
        "    tokens = word_tokenize(text)\n",
        "\n",
        "    # Remove stopwords\n",
        "    if remove_stopwords:\n",
        "        stop_words = set(stopwords.words('english'))\n",
        "        # Create medical stopwords exceptions (words we want to keep)\n",
        "        medical_exceptions = {'no', 'not', 'none', 'blood', 'heart', 'pain', 'fever'}\n",
        "        filtered_stop_words = stop_words - medical_exceptions\n",
        "        tokens = [token for token in tokens if token not in filtered_stop_words]\n",
        "\n",
        "    # Join tokens back into a string\n",
        "    preprocessed_text = ' '.join(tokens)\n",
        "\n",
        "    return preprocessed_text\n",
        "\n",
        "def preprocess_dataset(df):\n",
        "    \"\"\"Preprocess the dataset\"\"\"\n",
        "    # Create a copy to avoid modifying the original\n",
        "    processed_df = df.copy()\n",
        "\n",
        "    # Handle missing values in text columns\n",
        "    text_columns = ['AdmitDiagnosis', 'AdmitProcedure']\n",
        "    for col in text_columns:\n",
        "        if col in processed_df.columns:\n",
        "            processed_df[col] = processed_df[col].fillna('')\n",
        "\n",
        "    # Preprocess text columns\n",
        "    for col in text_columns:\n",
        "        if col in processed_df.columns:\n",
        "            print(f\"Preprocessing {col}...\")\n",
        "            processed_df[f'preprocessed_{col}'] = processed_df[col].apply(preprocess_text)\n",
        "\n",
        "    # Create a combined text field for analysis\n",
        "    processed_df['combined_text'] = ''\n",
        "    for col in text_columns:\n",
        "        if col in processed_df.columns:\n",
        "            processed_df['combined_text'] += processed_df[f'preprocessed_{col}'] + ' '\n",
        "\n",
        "    # Remove extra spaces\n",
        "    processed_df['combined_text'] = processed_df['combined_text'].str.strip()\n",
        "\n",
        "    return processed_df\n",
        "\n",
        "# Preprocess the dataset\n",
        "processed_mimic_df = preprocess_dataset(mimic_df)\n",
        "\n",
        "# Display a sample of preprocessed text\n",
        "print(\"\\n=== Sample Preprocessed Text ===\")\n",
        "sample_idx = processed_mimic_df.index[0]\n",
        "print(f\"Original AdmitDiagnosis: {mimic_df.loc[sample_idx, 'AdmitDiagnosis']}\")\n",
        "print(f\"Preprocessed: {processed_mimic_df.loc[sample_idx, 'preprocessed_AdmitDiagnosis']}\")"
      ],
      "metadata": {
        "colab": {
          "base_uri": "https://localhost:8080/"
        },
        "id": "OGb1eHBBfcsT",
        "outputId": "03b9a36f-db0e-477b-87fe-108ba9feb210"
      },
      "execution_count": null,
      "outputs": [
        {
          "output_type": "stream",
          "name": "stdout",
          "text": [
            "Preprocessing AdmitDiagnosis...\n",
            "Preprocessing AdmitProcedure...\n",
            "\n",
            "=== Sample Preprocessed Text ===\n",
            "Original AdmitDiagnosis: DIABETIC KETOACIDOSIS\n",
            "Preprocessed: diabetic ketoacidosis\n"
          ]
        }
      ]
    },
    {
      "cell_type": "markdown",
      "source": [
        " Named Entity Recognition (NER)"
      ],
      "metadata": {
        "id": "3UOx9X3EgbJu"
      }
    },
    {
      "cell_type": "code",
      "source": [
        "def extract_medical_entities(df, text_column='combined_text'):\n",
        "    \"\"\"Extract medical entities from text using spaCy's NER\"\"\"\n",
        "    print(\"Loading spaCy model...\")\n",
        "    nlp = spacy.load(\"en_core_web_sm\")\n",
        "\n",
        "    # List to store all entities\n",
        "    all_entities = []\n",
        "    entity_types = []\n",
        "\n",
        "    print(\"Extracting entities...\")\n",
        "    # Process each text and extract entities\n",
        "    for i, text in enumerate(df[text_column]):\n",
        "        if i % 500 == 0:\n",
        "            print(f\"Processing record {i}/{len(df)}\")\n",
        "\n",
        "        if pd.isna(text) or text == \"\":\n",
        "            all_entities.append([])\n",
        "            entity_types.append([])\n",
        "            continue\n",
        "\n",
        "        # Limit text size to prevent memory issues\n",
        "        doc = nlp(text[:5000])\n",
        "\n",
        "        # Extract entities\n",
        "        entities = [ent.text for ent in doc.ents]\n",
        "        types = [ent.label_ for ent in doc.ents]\n",
        "\n",
        "        all_entities.append(entities)\n",
        "        entity_types.append(types)\n",
        "\n",
        "    # Add the entities to the dataframe\n",
        "    df_with_entities = df.copy()\n",
        "    df_with_entities['extracted_entities'] = all_entities\n",
        "    df_with_entities['entity_types'] = entity_types\n",
        "\n",
        "    return df_with_entities\n",
        "\n",
        "# Extract entities\n",
        "df_with_entities = extract_medical_entities(processed_mimic_df)\n",
        "\n",
        "# Display entities for a sample record\n",
        "print(\"\\n=== Sample Extracted Entities ===\")\n",
        "sample_idx = df_with_entities.index[0]\n",
        "print(f\"Text: {processed_mimic_df.loc[sample_idx, 'combined_text'][:100]}...\")\n",
        "print(f\"Entities: {df_with_entities.loc[sample_idx, 'extracted_entities']}\")\n",
        "print(f\"Entity Types: {df_with_entities.loc[sample_idx, 'entity_types']}\")"
      ],
      "metadata": {
        "colab": {
          "base_uri": "https://localhost:8080/"
        },
        "id": "9f8xoNVEfcvK",
        "outputId": "801d7906-0014-431f-c17b-bbce4f9237a0"
      },
      "execution_count": null,
      "outputs": [
        {
          "output_type": "stream",
          "name": "stdout",
          "text": [
            "Loading spaCy model...\n",
            "Extracting entities...\n",
            "Processing record 0/5000\n",
            "Processing record 500/5000\n",
            "Processing record 1000/5000\n",
            "Processing record 1500/5000\n",
            "Processing record 2000/5000\n",
            "Processing record 2500/5000\n",
            "Processing record 3000/5000\n",
            "Processing record 3500/5000\n",
            "Processing record 4000/5000\n",
            "Processing record 4500/5000\n",
            "\n",
            "=== Sample Extracted Entities ===\n",
            "Text: diabetic ketoacidosis na...\n",
            "Entities: []\n",
            "Entity Types: []\n"
          ]
        }
      ]
    },
    {
      "cell_type": "code",
      "source": [
        "def textrank_summarize(text, num_sentences=3):\n",
        "    \"\"\"Implement TextRank algorithm to extract key sentences from text\"\"\"\n",
        "    if pd.isna(text) or text.strip() == \"\":\n",
        "        return \"\"\n",
        "\n",
        "    # Tokenize the text into sentences\n",
        "    sentences = sent_tokenize(text)\n",
        "\n",
        "    # If there are fewer sentences than requested, return the original text\n",
        "    if len(sentences) <= num_sentences:\n",
        "        return text\n",
        "\n",
        "    # Create a TF-IDF vectorizer to convert sentences to vectors\n",
        "    vectorizer = TfidfVectorizer(stop_words='english')\n",
        "\n",
        "    # Handle case where all sentences might be empty after preprocessing\n",
        "    try:\n",
        "        sentence_vectors = vectorizer.fit_transform(sentences)\n",
        "    except ValueError:\n",
        "        return \" \".join(sentences[:num_sentences])\n",
        "\n",
        "    # Calculate similarity between all sentence pairs\n",
        "    similarity_matrix = sentence_vectors * sentence_vectors.T\n",
        "\n",
        "    # Create a graph from the similarity matrix\n",
        "    nx_graph = nx.from_scipy_sparse_matrix(similarity_matrix)\n",
        "\n",
        "    # Apply PageRank algorithm\n",
        "    scores = nx.pagerank(nx_graph)\n",
        "\n",
        "    # Rank sentences based on scores\n",
        "    ranked_sentences = sorted(((scores[i], sentence) for i, sentence in enumerate(sentences)),\n",
        "                             reverse=True)\n",
        "\n",
        "    # Select top sentences\n",
        "    top_sentences = [sentence for _, sentence in ranked_sentences[:num_sentences]]\n",
        "\n",
        "    # Reorder sentences based on their original order\n",
        "    ordered_sentences = [sentence for sentence in sentences if sentence in top_sentences]\n",
        "\n",
        "    # Combine sentences into summary\n",
        "    summary = ' '.join(ordered_sentences)\n",
        "\n",
        "    return summary\n",
        "\n",
        "def generate_summaries(df, text_column='combined_text', num_sentences=3):\n",
        "    \"\"\"Generate TextRank summaries for each text in the dataset\"\"\"\n",
        "    print(\"Generating summaries...\")\n",
        "    df_with_summaries = df.copy()\n",
        "\n",
        "    # Apply TextRank to each document\n",
        "    df_with_summaries['textrank_summary'] = df[text_column].apply(\n",
        "        lambda x: textrank_summarize(x, num_sentences=num_sentences)\n",
        "    )\n",
        "\n",
        "    return df_with_summaries\n",
        "\n",
        "# Generate summaries\n",
        "df_with_summaries = generate_summaries(df_with_entities)\n",
        "\n",
        "# Display sample summaries\n",
        "print(\"\\n=== Sample Summaries ===\")\n",
        "for i, (_, row) in enumerate(df_with_summaries.sample(3).iterrows()):\n",
        "    print(f\"\\nSummary {i+1}:\")\n",
        "    print(row['textrank_summary'])"
      ],
      "metadata": {
        "colab": {
          "base_uri": "https://localhost:8080/"
        },
        "id": "pobR6d-NfcyN",
        "outputId": "aa9c795f-7b81-4d70-9df4-9c60706e341c"
      },
      "execution_count": null,
      "outputs": [
        {
          "output_type": "stream",
          "name": "stdout",
          "text": [
            "Generating summaries...\n",
            "\n",
            "=== Sample Summaries ===\n",
            "\n",
            "Summary 1:\n",
            "anemia endosc destru lg int les\n",
            "\n",
            "Summary 2:\n",
            "supraventricular tachycardia hypotension left heart cardiac cath\n",
            "\n",
            "Summary 3:\n",
            "gastrointestinal bleed colonoscopy\n"
          ]
        }
      ]
    },
    {
      "cell_type": "code",
      "source": [
        "def extract_tfidf_features(df, text_column='combined_text', max_features=1000):\n",
        "    \"\"\"Extract TF-IDF features from text\"\"\"\n",
        "    print(f\"Extracting TF-IDF features (max_features={max_features})...\")\n",
        "\n",
        "    # Create the TF-IDF vectorizer\n",
        "    tfidf_vectorizer = TfidfVectorizer(max_features=max_features,\n",
        "                                      stop_words='english')\n",
        "\n",
        "    # Fit and transform the text data\n",
        "    tfidf_matrix = tfidf_vectorizer.fit_transform(df[text_column])\n",
        "\n",
        "    print(f\"TF-IDF matrix shape: {tfidf_matrix.shape}\")\n",
        "\n",
        "    # Get feature names\n",
        "    feature_names = tfidf_vectorizer.get_feature_names_out()\n",
        "\n",
        "    return tfidf_matrix, tfidf_vectorizer, feature_names\n",
        "\n",
        "# Extract TF-IDF features\n",
        "tfidf_matrix, tfidf_vectorizer, feature_names = extract_tfidf_features(df_with_summaries)\n",
        "\n",
        "# Display some of the feature names\n",
        "print(\"\\n=== Sample TF-IDF Features ===\")\n",
        "print(feature_names[:20])"
      ],
      "metadata": {
        "colab": {
          "base_uri": "https://localhost:8080/"
        },
        "id": "DNCMdooffc0n",
        "outputId": "32244966-5f53-4c68-9dd3-7294bcafb5d0"
      },
      "execution_count": null,
      "outputs": [
        {
          "output_type": "stream",
          "name": "stdout",
          "text": [
            "Extracting TF-IDF features (max_features=1000)...\n",
            "TF-IDF matrix shape: (5000, 1000)\n",
            "\n",
            "=== Sample TF-IDF Features ===\n",
            "['aaa' 'abd' 'abdm' 'abdomen' 'abdominal' 'ablation' 'abnormal' 'abscess'\n",
            " 'access' 'accident' 'account' 'acidosis' 'acute' 'adenoma' 'adhesiolysis'\n",
            " 'adult' 'afib' 'aflutter' 'agent' 'aicd']\n"
          ]
        }
      ]
    },
    {
      "cell_type": "code",
      "source": [
        "def prepare_classification_data(df, feature_matrix, target_column='admit_type'):\n",
        "    \"\"\"Prepare data for classification\"\"\"\n",
        "    print(\"Preparing data for classification...\")\n",
        "\n",
        "    # Encode target variable\n",
        "    label_encoder = LabelEncoder()\n",
        "    y = label_encoder.fit_transform(df[target_column])\n",
        "\n",
        "    # Get class names\n",
        "    class_names = label_encoder.classes_\n",
        "    print(f\"Target classes: {class_names}\")\n",
        "\n",
        "    # Split data into train and test sets\n",
        "    X_train, X_test, y_train, y_test = train_test_split(\n",
        "        feature_matrix, y, test_size=0.2, random_state=42, stratify=y\n",
        "    )\n",
        "\n",
        "    print(f\"Training set shape: {X_train.shape}\")\n",
        "    print(f\"Test set shape: {X_test.shape}\")\n",
        "\n",
        "    return X_train, X_test, y_train, y_test, label_encoder\n",
        "\n",
        "# Prepare classification data\n",
        "X_train, X_test, y_train, y_test, label_encoder = prepare_classification_data(\n",
        "    df_with_summaries, tfidf_matrix, target_column='admit_type'\n",
        ")"
      ],
      "metadata": {
        "colab": {
          "base_uri": "https://localhost:8080/"
        },
        "id": "lU7KYQhjfc2e",
        "outputId": "ff4d6049-24b7-4037-f19d-29e51edcb8a4"
      },
      "execution_count": null,
      "outputs": [
        {
          "output_type": "stream",
          "name": "stdout",
          "text": [
            "Preparing data for classification...\n",
            "Target classes: ['ELECTIVE' 'EMERGENCY' 'NEWBORN' 'URGENT']\n",
            "Training set shape: (4000, 1000)\n",
            "Test set shape: (1000, 1000)\n"
          ]
        }
      ]
    },
    {
      "cell_type": "code",
      "source": [
        "def train_and_evaluate_models(X_train, X_test, y_train, y_test, label_encoder):\n",
        "    \"\"\"Train and evaluate Logistic Regression and SVM models\"\"\"\n",
        "    print(\"Training Logistic Regression model...\")\n",
        "    # Logistic Regression\n",
        "    lr_model = LogisticRegression(max_iter=1000, C=1.0, random_state=42)\n",
        "    lr_model.fit(X_train, y_train)\n",
        "\n",
        "    # Predict and evaluate\n",
        "    lr_predictions = lr_model.predict(X_test)\n",
        "    lr_accuracy = accuracy_score(y_test, lr_predictions)\n",
        "    print(f\"Logistic Regression Accuracy: {lr_accuracy:.4f}\")\n",
        "\n",
        "    # Classification report\n",
        "    lr_report = classification_report(\n",
        "        y_test, lr_predictions,\n",
        "        target_names=label_encoder.classes_,\n",
        "        output_dict=True\n",
        "    )\n",
        "\n",
        "    print(\"Training SVM model...\")\n",
        "    # SVM (using linear kernel for efficiency)\n",
        "    svm_model = SVC(kernel='linear', C=1.0, random_state=42)\n",
        "    svm_model.fit(X_train, y_train)\n",
        "\n",
        "    # Predict and evaluate\n",
        "    svm_predictions = svm_model.predict(X_test)\n",
        "    svm_accuracy = accuracy_score(y_test, svm_predictions)\n",
        "    print(f\"SVM Accuracy: {svm_accuracy:.4f}\")\n",
        "\n",
        "    # Classification report\n",
        "    svm_report = classification_report(\n",
        "        y_test, svm_predictions,\n",
        "        target_names=label_encoder.classes_,\n",
        "        output_dict=True\n",
        "    )\n",
        "\n",
        "    return lr_model, svm_model, lr_report, svm_report\n",
        "\n",
        "# Train and evaluate models\n",
        "lr_model, svm_model, lr_report, svm_report = train_and_evaluate_models(\n",
        "    X_train, X_test, y_train, y_test, label_encoder\n",
        ")\n",
        "\n",
        "# Print detailed classification reports\n",
        "print(\"\\n=== Logistic Regression Classification Report ===\")\n",
        "print(classification_report(y_test, lr_model.predict(X_test), target_names=label_encoder.classes_))\n",
        "\n",
        "print(\"\\n=== SVM Classification Report ===\")\n",
        "print(classification_report(y_test, svm_model.predict(X_test), target_names=label_encoder.classes_))"
      ],
      "metadata": {
        "colab": {
          "base_uri": "https://localhost:8080/"
        },
        "id": "2omFU-GsB4-J",
        "outputId": "95c2b56c-65c0-4bae-92cc-919257a19a12"
      },
      "execution_count": null,
      "outputs": [
        {
          "output_type": "stream",
          "name": "stdout",
          "text": [
            "Training Logistic Regression model...\n",
            "Logistic Regression Accuracy: 0.9650\n",
            "Training SVM model...\n"
          ]
        },
        {
          "output_type": "stream",
          "name": "stderr",
          "text": [
            "/usr/local/lib/python3.11/dist-packages/sklearn/metrics/_classification.py:1565: UndefinedMetricWarning: Precision is ill-defined and being set to 0.0 in labels with no predicted samples. Use `zero_division` parameter to control this behavior.\n",
            "  _warn_prf(average, modifier, f\"{metric.capitalize()} is\", len(result))\n",
            "/usr/local/lib/python3.11/dist-packages/sklearn/metrics/_classification.py:1565: UndefinedMetricWarning: Precision is ill-defined and being set to 0.0 in labels with no predicted samples. Use `zero_division` parameter to control this behavior.\n",
            "  _warn_prf(average, modifier, f\"{metric.capitalize()} is\", len(result))\n",
            "/usr/local/lib/python3.11/dist-packages/sklearn/metrics/_classification.py:1565: UndefinedMetricWarning: Precision is ill-defined and being set to 0.0 in labels with no predicted samples. Use `zero_division` parameter to control this behavior.\n",
            "  _warn_prf(average, modifier, f\"{metric.capitalize()} is\", len(result))\n"
          ]
        },
        {
          "output_type": "stream",
          "name": "stdout",
          "text": [
            "SVM Accuracy: 0.9650\n",
            "\n",
            "=== Logistic Regression Classification Report ===\n",
            "              precision    recall  f1-score   support\n",
            "\n",
            "    ELECTIVE       0.98      0.92      0.95       128\n",
            "   EMERGENCY       0.96      1.00      0.98       723\n",
            "     NEWBORN       1.00      1.00      1.00       125\n",
            "      URGENT       0.00      0.00      0.00        24\n",
            "\n",
            "    accuracy                           0.96      1000\n",
            "   macro avg       0.73      0.73      0.73      1000\n",
            "weighted avg       0.94      0.96      0.95      1000\n",
            "\n",
            "\n",
            "=== SVM Classification Report ===\n",
            "              precision    recall  f1-score   support\n",
            "\n",
            "    ELECTIVE       0.97      0.94      0.95       128\n",
            "   EMERGENCY       0.96      1.00      0.98       723\n",
            "     NEWBORN       1.00      1.00      1.00       125\n",
            "      URGENT       0.00      0.00      0.00        24\n",
            "\n",
            "    accuracy                           0.96      1000\n",
            "   macro avg       0.73      0.73      0.73      1000\n",
            "weighted avg       0.94      0.96      0.95      1000\n",
            "\n"
          ]
        },
        {
          "output_type": "stream",
          "name": "stderr",
          "text": [
            "/usr/local/lib/python3.11/dist-packages/sklearn/metrics/_classification.py:1565: UndefinedMetricWarning: Precision is ill-defined and being set to 0.0 in labels with no predicted samples. Use `zero_division` parameter to control this behavior.\n",
            "  _warn_prf(average, modifier, f\"{metric.capitalize()} is\", len(result))\n",
            "/usr/local/lib/python3.11/dist-packages/sklearn/metrics/_classification.py:1565: UndefinedMetricWarning: Precision is ill-defined and being set to 0.0 in labels with no predicted samples. Use `zero_division` parameter to control this behavior.\n",
            "  _warn_prf(average, modifier, f\"{metric.capitalize()} is\", len(result))\n",
            "/usr/local/lib/python3.11/dist-packages/sklearn/metrics/_classification.py:1565: UndefinedMetricWarning: Precision is ill-defined and being set to 0.0 in labels with no predicted samples. Use `zero_division` parameter to control this behavior.\n",
            "  _warn_prf(average, modifier, f\"{metric.capitalize()} is\", len(result))\n",
            "/usr/local/lib/python3.11/dist-packages/sklearn/metrics/_classification.py:1565: UndefinedMetricWarning: Precision is ill-defined and being set to 0.0 in labels with no predicted samples. Use `zero_division` parameter to control this behavior.\n",
            "  _warn_prf(average, modifier, f\"{metric.capitalize()} is\", len(result))\n",
            "/usr/local/lib/python3.11/dist-packages/sklearn/metrics/_classification.py:1565: UndefinedMetricWarning: Precision is ill-defined and being set to 0.0 in labels with no predicted samples. Use `zero_division` parameter to control this behavior.\n",
            "  _warn_prf(average, modifier, f\"{metric.capitalize()} is\", len(result))\n",
            "/usr/local/lib/python3.11/dist-packages/sklearn/metrics/_classification.py:1565: UndefinedMetricWarning: Precision is ill-defined and being set to 0.0 in labels with no predicted samples. Use `zero_division` parameter to control this behavior.\n",
            "  _warn_prf(average, modifier, f\"{metric.capitalize()} is\", len(result))\n",
            "/usr/local/lib/python3.11/dist-packages/sklearn/metrics/_classification.py:1565: UndefinedMetricWarning: Precision is ill-defined and being set to 0.0 in labels with no predicted samples. Use `zero_division` parameter to control this behavior.\n",
            "  _warn_prf(average, modifier, f\"{metric.capitalize()} is\", len(result))\n",
            "/usr/local/lib/python3.11/dist-packages/sklearn/metrics/_classification.py:1565: UndefinedMetricWarning: Precision is ill-defined and being set to 0.0 in labels with no predicted samples. Use `zero_division` parameter to control this behavior.\n",
            "  _warn_prf(average, modifier, f\"{metric.capitalize()} is\", len(result))\n",
            "/usr/local/lib/python3.11/dist-packages/sklearn/metrics/_classification.py:1565: UndefinedMetricWarning: Precision is ill-defined and being set to 0.0 in labels with no predicted samples. Use `zero_division` parameter to control this behavior.\n",
            "  _warn_prf(average, modifier, f\"{metric.capitalize()} is\", len(result))\n"
          ]
        }
      ]
    },
    {
      "cell_type": "code",
      "source": [
        "def visualize_classification_results(lr_report, svm_report, label_encoder):\n",
        "    \"\"\"Visualize classification results using bar charts\"\"\"\n",
        "    # Create figure with two subplots\n",
        "    fig, (ax1, ax2) = plt.subplots(1, 2, figsize=(16, 6))\n",
        "\n",
        "    # Extract class-wise F1 scores\n",
        "    class_names = label_encoder.classes_\n",
        "    lr_f1_scores = [lr_report[cls]['f1-score'] for cls in class_names]\n",
        "    svm_f1_scores = [svm_report[cls]['f1-score'] for cls in class_names]\n",
        "\n",
        "    # Plot F1 scores for Logistic Regression\n",
        "    ax1.bar(class_names, lr_f1_scores)\n",
        "    ax1.set_title('Logistic Regression - F1 Scores by Class')\n",
        "    ax1.set_xlabel('Class')\n",
        "    ax1.set_ylabel('F1 Score')\n",
        "    ax1.set_ylim(0, 1)\n",
        "    ax1.grid(True, alpha=0.3)\n",
        "    plt.setp(ax1.get_xticklabels(), rotation=45, ha=\"right\")\n",
        "\n",
        "    # Plot F1 scores for SVM\n",
        "    ax2.bar(class_names, svm_f1_scores)\n",
        "    ax2.set_title('SVM - F1 Scores by Class')\n",
        "    ax2.set_xlabel('Class')\n",
        "    ax2.set_ylabel('F1 Score')\n",
        "    ax2.set_ylim(0, 1)\n",
        "    ax2.grid(True, alpha=0.3)\n",
        "    plt.setp(ax2.get_xticklabels(), rotation=45, ha=\"right\")\n",
        "\n",
        "    plt.tight_layout()\n",
        "    plt.show()\n",
        "\n",
        "    # Compare overall metrics\n",
        "    metrics = ['precision', 'recall', 'f1-score']\n",
        "    lr_metrics = [lr_report['weighted avg'][metric] for metric in metrics]\n",
        "    svm_metrics = [svm_report['weighted avg'][metric] for metric in metrics]\n",
        "\n",
        "    plt.figure(figsize=(10, 6))\n",
        "    width = 0.35\n",
        "    x = np.arange(len(metrics))\n",
        "\n",
        "    plt.bar(x - width/2, lr_metrics, width, label='Logistic Regression')\n",
        "    plt.bar(x + width/2, svm_metrics, width, label='SVM')\n",
        "\n",
        "    plt.xlabel('Metric')\n",
        "    plt.ylabel('Score')\n",
        "    plt.title('Model Comparison - Weighted Average Metrics')\n",
        "    plt.xticks(x, metrics)\n",
        "    plt.ylim(0, 1)\n",
        "    plt.legend()\n",
        "    plt.grid(True, alpha=0.3)\n",
        "\n",
        "    plt.tight_layout()\n",
        "    plt.show()\n",
        "\n",
        "# Visualize classification results\n",
        "visualize_classification_results(lr_report, svm_report, label_encoder)"
      ],
      "metadata": {
        "colab": {
          "base_uri": "https://localhost:8080/",
          "height": 1000
        },
        "id": "lhOXTrvEB4_1",
        "outputId": "c0c7dcbd-ef8a-43d4-bc0d-db23f78d364c"
      },
      "execution_count": null,
      "outputs": [
        {
          "output_type": "display_data",
          "data": {
            "text/plain": [
              "<Figure size 1600x600 with 2 Axes>"
            ],
            "image/png": "[encoded data removed]"
          },
          "metadata": {}
        },
        {
          "output_type": "display_data",
          "data": {
            "text/plain": [
              "<Figure size 1000x600 with 1 Axes>"
            ],
            "image/png": "[encoded data removed]"
          },
          "metadata": {}
        }
      ]
    },
    {
      "cell_type": "markdown",
      "source": [
        "Generate Final Medical Blogs"
      ],
      "metadata": {
        "id": "E9YVK5OWg-dF"
      }
    },
    {
      "cell_type": "code",
      "source": [
        "def generate_medical_blogs(df, summaries, predictions, label_encoder, n_samples=5):\n",
        "    \"\"\"Generate final medical blogs using summaries and predictions\"\"\"\n",
        "    # Convert numeric predictions to class names\n",
        "    predicted_classes = label_encoder.inverse_transform(predictions)\n",
        "\n",
        "    # Create a DataFrame with blogs\n",
        "    blogs_df = pd.DataFrame({\n",
        "        'original_text': df['combined_text'],\n",
        "        'blog_content': summaries,\n",
        "        'medical_category': predicted_classes\n",
        "    })\n",
        "\n",
        "    # Display sample blogs\n",
        "    print(f\"\\n=== Sample Medical Blogs ({n_samples}) ===\")\n",
        "    samples = blogs_df.sample(n_samples)\n",
        "\n",
        "    for i, (_, row) in enumerate(samples.iterrows()):\n",
        "        print(f\"\\nBlog {i+1} - Category: {row['medical_category']}\")\n",
        "        print(\"=\" * 50)\n",
        "        print(row['blog_content'])\n",
        "        print(\"=\" * 50)\n",
        "\n",
        "    return blogs_df\n",
        "\n",
        "# Generate predictions for the entire dataset with the better model\n",
        "if svm_report['weighted avg']['f1-score'] > lr_report['weighted avg']['f1-score']:\n",
        "    print(\"Using SVM model for final predictions...\")\n",
        "    full_predictions = svm_model.predict(tfidf_matrix)\n",
        "    best_model = svm_model\n",
        "else:\n",
        "    print(\"Using Logistic Regression model for final predictions...\")\n",
        "    full_predictions = lr_model.predict(tfidf_matrix)\n",
        "    best_model = lr_model\n",
        "\n",
        "# Generate blogs\n",
        "blogs_df = generate_medical_blogs(\n",
        "    df_with_summaries, df_with_summaries['textrank_summary'],\n",
        "    full_predictions, label_encoder\n",
        ")\n",
        "\n",
        "# Save the blogs\n",
        "blogs_df.to_csv('/content/generated_medical_blogs.csv', index=False)\n",
        "print(\"Results saved to '/content/generated_medical_blogs.csv'\")"
      ],
      "metadata": {
        "colab": {
          "base_uri": "https://localhost:8080/"
        },
        "id": "Wymc5gqtB5CA",
        "outputId": "8e8558e3-1171-4293-d041-2ef5faea867c"
      },
      "execution_count": null,
      "outputs": [
        {
          "output_type": "stream",
          "name": "stdout",
          "text": [
            "Using SVM model for final predictions...\n",
            "\n",
            "=== Sample Medical Blogs (5) ===\n",
            "\n",
            "Blog 1 - Category: EMERGENCY\n",
            "==================================================\n",
            "seizure craniectomy\n",
            "==================================================\n",
            "\n",
            "Blog 2 - Category: EMERGENCY\n",
            "==================================================\n",
            "congestive heart failure non st elevation mi respiratory distress na\n",
            "==================================================\n",
            "\n",
            "Blog 3 - Category: EMERGENCY\n",
            "==================================================\n",
            "foreign body stomach sm bowel endoscopy nec\n",
            "==================================================\n",
            "\n",
            "Blog 4 - Category: EMERGENCY\n",
            "==================================================\n",
            "systolic dysfunction cath heart vessel op nec\n",
            "==================================================\n",
            "\n",
            "Blog 5 - Category: EMERGENCY\n",
            "==================================================\n",
            "aortic stenosis opn oth rep aortic valve\n",
            "==================================================\n",
            "Results saved to '/content/generated_medical_blogs.csv'\n"
          ]
        }
      ]
    },
    {
      "cell_type": "code",
      "source": [
        "def evaluate_blog_quality(blogs_df):\n",
        "    \"\"\"Analyze the quality of generated blogs\"\"\"\n",
        "    # Calculate blog length statistics\n",
        "    blogs_df['blog_length'] = blogs_df['blog_content'].apply(len)\n",
        "    blogs_df['blog_sentence_count'] = blogs_df['blog_content'].apply(\n",
        "        lambda x: len(sent_tokenize(x)) if pd.notna(x) else 0\n",
        "    )\n",
        "\n",
        "    # Calculate word count\n",
        "    blogs_df['word_count'] = blogs_df['blog_content'].apply(\n",
        "        lambda x: len(word_tokenize(x)) if pd.notna(x) else 0\n",
        "    )\n",
        "\n",
        "    # Calculate words per sentence (simple readability metric)\n",
        "    blogs_df['words_per_sentence'] = blogs_df.apply(\n",
        "        lambda row: row['word_count'] / row['blog_sentence_count'] if row['blog_sentence_count'] > 0 else 0,\n",
        "        axis=1\n",
        "    )\n",
        "\n",
        "    # Print summary statistics\n",
        "    print(\"\\n=== Blog Quality Metrics ===\")\n",
        "    print(f\"Average blog length (characters): {blogs_df['blog_length'].mean():.2f}\")\n",
        "    print(f\"Average sentences per blog: {blogs_df['blog_sentence_count'].mean():.2f}\")\n",
        "    print(f\"Average words per blog: {blogs_df['word_count'].mean():.2f}\")\n",
        "    print(f\"Average words per sentence: {blogs_df['words_per_sentence'].mean():.2f}\")\n",
        "\n",
        "    # Distribution of blog lengths by category\n",
        "    plt.figure(figsize=(12, 6))\n",
        "    sns.boxplot(x='medical_category', y='word_count', data=blogs_df)\n",
        "    plt.title('Blog Word Counts by Medical Category')\n",
        "    plt.xlabel('Medical Category')\n",
        "    plt.ylabel('Word Count')\n",
        "    plt.xticks(rotation=45)\n",
        "    plt.tight_layout()\n",
        "    plt.show()\n",
        "\n",
        "    return blogs_df\n",
        "\n",
        "# Evaluate blog quality\n",
        "blogs_df_with_metrics = evaluate_blog_quality(blogs_df)"
      ],
      "metadata": {
        "colab": {
          "base_uri": "https://localhost:8080/",
          "height": 716
        },
        "id": "YjfNTHykB5Ed",
        "outputId": "2945d3da-3e41-4d09-a693-41d0579fd37b"
      },
      "execution_count": null,
      "outputs": [
        {
          "output_type": "stream",
          "name": "stdout",
          "text": [
            "\n",
            "=== Blog Quality Metrics ===\n",
            "Average blog length (characters): 39.60\n",
            "Average sentences per blog: 1.00\n",
            "Average words per blog: 5.94\n",
            "Average words per sentence: 5.94\n"
          ]
        },
        {
          "output_type": "display_data",
          "data": {
            "text/plain": [
              "<Figure size 1200x600 with 1 Axes>"
            ],
            "image/png": "[encoded data removed]"
          },
          "metadata": {}
        }
      ]
    },
    {
      "cell_type": "code",
      "source": [],
      "metadata": {
        "id": "7FXm_RhhB5Gj"
      },
      "execution_count": null,
      "outputs": []
    },
    {
      "cell_type": "code",
      "source": [],
      "metadata": {
        "id": "2Qp3zolsB5IU"
      },
      "execution_count": null,
      "outputs": []
    }
  ]
}